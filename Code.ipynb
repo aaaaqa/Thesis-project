{
 "cells": [
  {
   "cell_type": "code",
   "execution_count": 78,
   "metadata": {},
   "outputs": [],
   "source": [
    "import numpy as np\n",
    "import matplotlib.pyplot as plt\n",
    "import matplotlib.animation as manim\n",
    "from skimage.measure import find_contours\n",
    "from sklearn.preprocessing import normalize\n",
    "\n",
    "import pylidc as pl\n",
    "from pylidc.utils import consensus\n",
    "from PIL import Image, ImageDraw\n",
    "import os\n",
    "import matplotlib.path as mplpath"
   ]
  },
  {
   "cell_type": "markdown",
   "metadata": {},
   "source": [
    "# Change deprecated functions"
   ]
  },
  {
   "cell_type": "code",
   "execution_count": 2,
   "metadata": {},
   "outputs": [],
   "source": [
    "def to_matrix(self, include_k=True):\n",
    "    ij = np.array([[int(cc) for cc in c.split(',')][::-1] for c in self.coords.split('\\n')])\n",
    "    if not include_k:\n",
    "        return ij\n",
    "    else:\n",
    "        k  = np.ones(ij.shape[0])*self.image_k_position\n",
    "        zs = self.annotation.contour_slice_zvals\n",
    "        return np.c_[ij, k].astype(np.int32)"
   ]
  },
  {
   "cell_type": "code",
   "execution_count": 3,
   "metadata": {},
   "outputs": [],
   "source": [
    "def boolean_mask(self, pad=None, bbox=None, include_contour_points=False):\n",
    "    bb = self.bbox_matrix(pad=pad) if bbox is None else bbox\n",
    "\n",
    "    czs = self.contour_slice_zvals\n",
    "    cks = self.contour_slice_indices\n",
    "\n",
    "    zs = self.scan.slice_zvals\n",
    "    zs = zs[cks[0]:cks[-1]+1]\n",
    "\n",
    "    z_to_index = lambda z: dict(zip(czs,cks))[z] - bb[2,0]\n",
    "\n",
    "    ni,nj,nk = np.diff(bb, axis=1).astype(int)[:,0] + 1\n",
    "\n",
    "    ni, nj, _ = np.amax(bb, axis=1)\n",
    "\n",
    "    print(ni, nj)\n",
    "\n",
    "    mask = np.zeros((ni,nj,nk), dtype=np.bool)\n",
    "\n",
    "    ii,jj = np.indices(mask.shape[:2])\n",
    "    test_points = bb[:2,0] + np.c_[ii.flatten(), jj.flatten()]\n",
    "\n",
    "    for contour in self.contours:\n",
    "        if contour.inclusion:\n",
    "            zi = z_to_index(contour.image_z_position)\n",
    "            C  = contour.to_matrix(include_k=False)\n",
    "\n",
    "            if (C[0] != C[-1]).any():\n",
    "                C = np.append(C, C[0].reshape(1,2), axis=0)\n",
    "\n",
    "            path = mplpath.Path(C, closed=True)\n",
    "            contains_pts = path.contains_points(test_points)\n",
    "            contains_pts = contains_pts.reshape(mask.shape[:2])\n",
    "\n",
    "            mask[:,:,zi] = np.logical_or(mask[:,:,zi], contains_pts)\n",
    "\n",
    "            if not include_contour_points:\n",
    "                i, j = (C - bb[:2,0]).T\n",
    "                k = np.ones(C.shape[0], dtype=np.int32)*zi\n",
    "                mask[i,j,k] = False\n",
    "\n",
    "    for contour in self.contours:\n",
    "        if not contour.inclusion:\n",
    "            zi = z_to_index(contour.image_z_position)\n",
    "            C = contour.to_matrix(include_k=False)\n",
    "\n",
    "            if (C[0] != C[-1]).any():\n",
    "                C = np.append(C, C[0].reshape(1,2), axis=0)\n",
    "\n",
    "            path = mplpath.Path(C, closed=True)\n",
    "            not_contains_pts = ~path.contains_points(test_points)\n",
    "            not_contains_pts = not_contains_pts.reshape(mask.shape[:2])\n",
    "            mask[:,:,zi] = np.logical_and(mask[:,:,zi], not_contains_pts)\n",
    "\n",
    "            i, j = (C - bb[:2,0]).T\n",
    "            k = np.ones(C.shape[0], dtype=np.int32)*zi\n",
    "            mask[i,j,k] = False\n",
    "\n",
    "    return mask"
   ]
  },
  {
   "cell_type": "code",
   "execution_count": 4,
   "metadata": {},
   "outputs": [],
   "source": [
    "def consensus(anns, clevel=0.5, pad=None, ret_masks=True):\n",
    "    bmats = np.array([a.bbox_matrix(pad=pad) for a in anns])\n",
    "    imin,jmin,kmin = bmats[:,:,0].min(axis=0)\n",
    "    imax,jmax,kmax = bmats[:,:,1].max(axis=0)\n",
    "\n",
    "    # consensus_bbox\n",
    "    cbbox = np.array([[imin,imax], [jmin,jmax], [kmin,kmax]])\n",
    "\n",
    "    masks = [a.boolean_mask(bbox=cbbox) for a in anns]\n",
    "    cbbox = tuple(slice(cb[0], cb[1]+1, None) for cb in cbbox)\n",
    "    cmask = np.mean(masks, axis=0) >= clevel\n",
    "\n",
    "    if ret_masks:\n",
    "        return cmask, cbbox, masks\n",
    "    else:\n",
    "        return cmask, cbbox"
   ]
  },
  {
   "cell_type": "code",
   "execution_count": 88,
   "metadata": {},
   "outputs": [],
   "source": [
    "def visualize_in_scan(self, verbose=True):\n",
    "        images = self.scan.load_all_dicom_images(verbose)\n",
    "\n",
    "        image_array = []\n",
    "        \n",
    "        # Preload contours and sort them by z pos.\n",
    "        contours = sorted(self.contours, key=lambda c: c.image_z_position)\n",
    "        fnames = self.scan.sorted_dicom_file_names.split(',')\n",
    "        index_of_contour = [fnames.index(c.dicom_file_name) for c in contours]\n",
    "        \n",
    "        for current_slice in index_of_contour:\n",
    "\n",
    "            img = images[current_slice].pixel_array\n",
    "            image_array.append(img)\n",
    "\n",
    "        contour_lines = []\n",
    "\n",
    "        for c in contours:\n",
    "            arr = c.to_matrix()\n",
    "            contour_lines.append([arr[:,1], arr[:,0]])\n",
    "\n",
    "        return image_array, contour_lines, index_of_contour"
   ]
  },
  {
   "cell_type": "markdown",
   "metadata": {},
   "source": [
    "# Code"
   ]
  },
  {
   "cell_type": "code",
   "execution_count": 89,
   "metadata": {},
   "outputs": [],
   "source": [
    "pl.Contour.to_matrix = to_matrix\n",
    "pl.Annotation.boolean_mask = boolean_mask\n",
    "pl.Annotation.visualize_in_scan = visualize_in_scan"
   ]
  },
  {
   "cell_type": "code",
   "execution_count": 146,
   "metadata": {},
   "outputs": [
    {
     "name": "stdout",
     "output_type": "stream",
     "text": [
      "Loading dicom files ... This may take a moment.\n",
      "Loading dicom files ... This may take a moment.\n",
      "Loading dicom files ... This may take a moment.\n",
      "Loading dicom files ... This may take a moment.\n"
     ]
    }
   ],
   "source": [
    "global_path = ''\n",
    "\n",
    "scanLIDC_IDRI = pl.query(pl.Scan).filter(pl.Scan.patient_id == 'LIDC-IDRI-0001')\n",
    "for scan in scanLIDC_IDRI:\n",
    "    path = os.path.join(global_path, scan.patient_id)\n",
    "    for annotation in scan.cluster_annotations():\n",
    "        for j, ann in enumerate(annotation):\n",
    "            PIL_images = []\n",
    "            images, contours, index = ann.visualize_in_scan()\n",
    "            for image in images:\n",
    "                PIL_images.append(Image.fromarray(image).convert('RGB'))\n",
    "            for i, contour in enumerate(contours):\n",
    "                min_x, max_x = min(contour[0]), max(contour[0])\n",
    "                min_y, max_y = min(contour[1]), max(contour[1])\n",
    "                shape = [(min_x, min_y), (max_x, max_y)]\n",
    "                draw = ImageDraw.Draw(PIL_images[i])\n",
    "                draw.rectangle(shape, outline=\"red\", width=3)\n",
    "                PIL_images[i].save(os.path.join(path, \"annotation_{}_image_{}.jpg\".format(j, i)), \"JPEG\")"
   ]
  },
  {
   "cell_type": "code",
   "execution_count": null,
   "metadata": {},
   "outputs": [],
   "source": []
  }
 ],
 "metadata": {
  "kernelspec": {
   "display_name": ".venv",
   "language": "python",
   "name": "python3"
  },
  "language_info": {
   "codemirror_mode": {
    "name": "ipython",
    "version": 3
   },
   "file_extension": ".py",
   "mimetype": "text/x-python",
   "name": "python",
   "nbconvert_exporter": "python",
   "pygments_lexer": "ipython3",
   "version": "3.12.7"
  }
 },
 "nbformat": 4,
 "nbformat_minor": 2
}
